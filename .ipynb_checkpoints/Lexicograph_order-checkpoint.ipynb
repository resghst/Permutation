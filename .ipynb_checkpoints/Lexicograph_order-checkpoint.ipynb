{
 "cells": [
  {
   "cell_type": "markdown",
   "metadata": {},
   "source": [
    "### Permutation  \n",
    "- Function List:\n",
    "    - listall\n",
    "    - next_permutation\n",
    "    - pre_permutation"
   ]
  },
  {
   "cell_type": "code",
   "execution_count": 16,
   "metadata": {
    "code_folding": [
     17
    ]
   },
   "outputs": [
    {
     "name": "stdout",
     "output_type": "stream",
     "text": [
      "請輸入n :3\n",
      "[1, 2, 3]\n",
      "[[1, 2, 3], [1, 3, 2], [2, 1, 3], [2, 3, 1], [3, 1, 2], [3, 2, 1]]\n",
      "請輸入要尋找數列(逗點分割)或整數 :2\n",
      "['2']\n",
      "請輸入要上一個還是下一個[(上一個,下一個),(1,0)]:0\n",
      "next list  [2, 3, 1]\n"
     ]
    }
   ],
   "source": [
    "permutation = []\n",
    "\n",
    "def listall(n):\n",
    "    global permutation\n",
    "    permutation = []\n",
    "    def findnext(orgin,order,result):\n",
    "        for i in range(len(orgin)): findnext(orgin[:i]+orgin[i+1:], order+[orgin[i]], result)\n",
    "        if not orgin: result.append(order)\n",
    "    a, result= [ i for i in range(1,n+1)], []\n",
    "    print(a)\n",
    "    findnext(a,[],permutation)\n",
    "    return permutation\n",
    "\n",
    "def check_exist(inlist, input_type=0):\n",
    "    global permutation\n",
    "    def update(n, permutation):\n",
    "        permutation = []\n",
    "        def findnext(orgin,order,result):\n",
    "            for i in range(len(orgin)): findnext(orgin[:i]+orgin[i+1:], order+[orgin[i]], result)\n",
    "            if not orgin: result.append(order)\n",
    "        a, result= [ i for i in range(1,n+1)], []\n",
    "        findnext(a,[],permutation)\n",
    "        return permutation\n",
    "    if(input_type==0):\n",
    "        if (not permutation): permutation = update(len(inlist), permutation)\n",
    "        elif (len(permutation[0])!=len(inlist)): \n",
    "            permutation = update(len(inlist), permutation)\n",
    "    else:\n",
    "        perlen = 1\n",
    "        for i in range(2,len(permutation[0])+1): perlen *= i\n",
    "        if (not permutation): permutation = update(inlist, permutation)\n",
    "        elif (perlen<inlist): \n",
    "            permutation = update(inlist, permutation)\n",
    "    return permutation\n",
    "\n",
    "def next_permutation(inlist, input_type=0):\n",
    "    global permutation\n",
    "    if(input_type==0):\n",
    "        print('This next_permutation is unRanking permutation...')\n",
    "        permutation = check_exist(inlist, input_type)\n",
    "        max_index = 1\n",
    "        for i in range(2,len(inlist)+1): max_index*=i\n",
    "        try: \n",
    "            now_index = permutation.index(inlist)\n",
    "            if(now_index+1>max_index-1): print('next index out of range')\n",
    "            else: print(\"next list \", permutation[now_index+1])\n",
    "        except ValueError: print(\"input list \", inlist, \" not found.\")\n",
    "    else:\n",
    "        print('This next_permutation is Ranking permutation...')\n",
    "        permutation = check_exist(inlist[0], input_type)\n",
    "        max_index = len(permutation)\n",
    "        try: \n",
    "            now_index = inlist[0]\n",
    "            if(now_index+1>max_index-1): print('next index out of range')\n",
    "            else: print(\"next list \", permutation[now_index+1])\n",
    "        except ValueError: print(\"input list \", inlist, \" not found.\")\n",
    "        \n",
    "def pre_permutation(inlist, input_type=0):\n",
    "    global permutation\n",
    "    if(input_type==0):\n",
    "        print('This pre_permutation is unRanking permutation...')\n",
    "        permutation = check_exist(inlist, input_type)\n",
    "        try: \n",
    "            now_index = permutation.index(inlist)\n",
    "            if(now_index-1<0): print('previous index out of range')\n",
    "            else: print(\"previous list \", permutation[now_index-1])\n",
    "        except ValueError: print(\"input list \", inlist, \" not found.\")\n",
    "    else:\n",
    "        print('This pre_permutation is Ranking permutation...')\n",
    "        permutation = check_exist(inlist[0], input_type)\n",
    "        try: \n",
    "            now_index = inlist[0]\n",
    "            if(now_index-1<0): print('next index out of range')\n",
    "            else: print(\"next list \", permutation[now_index-1])\n",
    "        except ValueError: print(\"input list \", inlist, \" not found.\")\n",
    "  \n",
    "n = int(input('請輸入n :'))\n",
    "result = listall(n)\n",
    "print(result)\n",
    "list_in = input('請輸入要尋找數列(逗點分割)或整數 :')\n",
    "list_in = list_in.split(\",\")\n",
    "print(list_in)\n",
    "flag = int(input('請輸入要上一個還是下一個[(上一個,下一個),(1,0)]:'))\n",
    "\n",
    "# if( list_in is int):\n",
    "# print(type(list_in))\n",
    "\n",
    "if(len(list_in)==1) :  \n",
    "    list_index = int(list_in[0])\n",
    "    list_in = list(map(int, list_in))\n",
    "    if(flag==1) : pre_permutation(list_in, 1)\n",
    "    else : next_permutation(list_in, 1)\n",
    "    \n",
    "else : \n",
    "    list_in = list(map(int, list_in))\n",
    "    if(flag==1) : pre_permutation(list_in, 0)\n",
    "    else : next_permutation(list_in, 0)"
   ]
  },
  {
   "cell_type": "markdown",
   "metadata": {},
   "source": [
    "### Random Permutation  "
   ]
  },
  {
   "cell_type": "code",
   "execution_count": 5,
   "metadata": {},
   "outputs": [
    {
     "name": "stdout",
     "output_type": "stream",
     "text": [
      "請輸入n :3\n",
      "請輸入k :2\n",
      "[[(2, 0), (1, 1), (3, 2)], [(2, 0), (3, 1), (1, 2)]]\n",
      "請輸入需要編碼之數列(逗點分割) :1,2,3\n"
     ]
    },
    {
     "ename": "TypeError",
     "evalue": "replace() takes at least 2 arguments (1 given)",
     "output_type": "error",
     "traceback": [
      "\u001b[1;31m---------------------------------------------------------------------------\u001b[0m",
      "\u001b[1;31mTypeError\u001b[0m                                 Traceback (most recent call last)",
      "\u001b[1;32m<ipython-input-5-23c8dd398a04>\u001b[0m in \u001b[0;36m<module>\u001b[1;34m()\u001b[0m\n\u001b[0;32m     23\u001b[0m \u001b[1;32mfor\u001b[0m \u001b[0mitem\u001b[0m \u001b[1;32min\u001b[0m \u001b[0mpasslist\u001b[0m\u001b[1;33m:\u001b[0m\u001b[1;33m\u001b[0m\u001b[0m\n\u001b[0;32m     24\u001b[0m     \u001b[0mpassObj\u001b[0m\u001b[1;33m[\u001b[0m\u001b[0mstr\u001b[0m\u001b[1;33m(\u001b[0m\u001b[0mi\u001b[0m\u001b[1;33m)\u001b[0m\u001b[1;33m]\u001b[0m \u001b[1;33m=\u001b[0m \u001b[0mstr\u001b[0m\u001b[1;33m(\u001b[0m\u001b[0mj\u001b[0m\u001b[1;33m)\u001b[0m\u001b[1;33m\u001b[0m\u001b[0m\n\u001b[1;32m---> 25\u001b[1;33m \u001b[1;32mfor\u001b[0m \u001b[1;33m(\u001b[0m\u001b[0mi\u001b[0m\u001b[1;33m,\u001b[0m \u001b[0mj\u001b[0m\u001b[1;33m)\u001b[0m \u001b[1;32min\u001b[0m \u001b[0mitem\u001b[0m\u001b[1;33m:\u001b[0m \u001b[0mtext\u001b[0m \u001b[1;33m=\u001b[0m \u001b[0mtext\u001b[0m\u001b[1;33m.\u001b[0m\u001b[0mreplace\u001b[0m\u001b[1;33m(\u001b[0m\u001b[0mpassObj\u001b[0m\u001b[1;33m)\u001b[0m\u001b[1;33m\u001b[0m\u001b[0m\n\u001b[0m\u001b[0;32m     26\u001b[0m \u001b[0mprint\u001b[0m\u001b[1;33m(\u001b[0m\u001b[0mtext\u001b[0m\u001b[1;33m)\u001b[0m\u001b[1;33m\u001b[0m\u001b[0m\n\u001b[0;32m     27\u001b[0m \u001b[1;33m\u001b[0m\u001b[0m\n",
      "\u001b[1;31mTypeError\u001b[0m: replace() takes at least 2 arguments (1 given)"
     ]
    }
   ],
   "source": [
    "import random\n",
    "\n",
    "n = int(input('請輸入n :'))\n",
    "k = int(input('請輸入k :'))\n",
    "\n",
    "orginal = [ i for i in range(1,n+1)]\n",
    "passlist = []\n",
    "\n",
    "for i in range(k):\n",
    "    nlist = orginal\n",
    "    random.shuffle(nlist)\n",
    "    part_passlist = []\n",
    "    for item in orginal:\n",
    "        new_index = nlist.index(item)\n",
    "        part_passlist.append((item, new_index))\n",
    "    orginal = nlist\n",
    "    passlist.append(part_passlist)\n",
    "    \n",
    "print(passlist)\n",
    "\n",
    "text = input('請輸入需要編碼之數列(逗點分割) :')\n",
    "list_in = list_in.split(\",\")\n",
    "\n",
    "for item in passlist:\n",
    "    passObj={}\n",
    "    for (i, j) in item: \n",
    "        passObj[str(i)] = str(j)\n",
    "    for i in text\n",
    "print(text)\n",
    "        \n",
    "text = input('請輸入需要解碼之數列(逗點分割) :')\n",
    "for item in passlist.reverse():\n",
    "    for (i, j) in item: text = text.replace(j, i)\n",
    "print(text)"
   ]
  },
  {
   "cell_type": "markdown",
   "metadata": {},
   "source": [
    "- index 功能, Ranking unRanking\n",
    "- passer result"
   ]
  }
 ],
 "metadata": {
  "kernelspec": {
   "display_name": "Python 3",
   "language": "python",
   "name": "python3"
  },
  "language_info": {
   "codemirror_mode": {
    "name": "ipython",
    "version": 3
   },
   "file_extension": ".py",
   "mimetype": "text/x-python",
   "name": "python",
   "nbconvert_exporter": "python",
   "pygments_lexer": "ipython3",
   "version": "3.6.5"
  }
 },
 "nbformat": 4,
 "nbformat_minor": 2
}
